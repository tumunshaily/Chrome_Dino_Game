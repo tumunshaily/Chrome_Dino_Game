{
 "cells": [
  {
   "cell_type": "markdown",
   "metadata": {},
   "source": [
    "# LIBRARIES"
   ]
  },
  {
   "cell_type": "code",
   "execution_count": 21,
   "metadata": {},
   "outputs": [],
   "source": [
    "import numpy as np #For processing the pixels using array function \n",
    "import time # For code hault \n",
    "from mss import mss # Frame capturing (Faster then PIL Image.Grab()) \n",
    "from PIL import Image # Image processing \n",
    "import pyautogui # For controlling keyboard and mouse\n",
    "import keyboard"
   ]
  },
  {
   "cell_type": "markdown",
   "metadata": {},
   "source": [
    "# CODE"
   ]
  },
  {
   "cell_type": "code",
   "execution_count": 26,
   "metadata": {},
   "outputs": [],
   "source": [
    "import cv2\n",
    "Pixel_Box1 = {'top':437 , 'left':1090 , 'width': 20, 'height': 15} # defining the frame Parameters for plant\n",
    "Pixel_Box2 = {'top':375 , 'left':1070 , 'width': 30, 'height': 14} # defining the frame Parameters for bird\n",
    "#Pixel_Box3 = {'top':200 , 'left':900 , 'width': 3, 'height': 3} # defining the frame Parameters\n",
    "sct1= mss() #creating mss object for frame capturing \n",
    "sct2= mss()\n",
    "#sct3 = mss()\n",
    "pyautogui.click(2200,32) #opening the tab having the game with a mouse click let's say its last\n",
    "pyautogui.press(\"Space\") #starting the game \n",
    "\n",
    "while True:\n",
    "    sct1.get_pixels(Pixel_Box1)#Frame for capturing image\n",
    "    sct2.get_pixels(Pixel_Box2)\n",
    "    #sct3.get_pixels(Pixel_Box3)\n",
    "    #img3 = Image.frombytes(\"L\", (sct3.width, sct3.height), sct3.image) \n",
    "    \n",
    "    img = Image.frombytes(\"L\", (sct1.width, sct1.height), sct1.image) #Final frame /Image captured\n",
    "   \n",
    "    Plant = np.array(img.getcolors()) # converting images into int values to do computation\n",
    "    \n",
    "   \n",
    "    #Color_Check = np.array(img3.getcolors())\n",
    "#if(qColor_Check.sum() < 284):\n",
    "    if  Plant.sum()> 556:#pixel values without plant (556)\n",
    "        pyautogui.keyDown(\"Space\")\n",
    "    img2 = Image.frombytes(\"L\", (sct2.width, sct2.height), sct2.image)\n",
    "    Bird = np.array(img2.getcolors())\n",
    "    if Bird.sum() > 675:#pixel values without Bird (675)\n",
    "        pyautogui.keyDown(\"Down\")\n",
    "        time.sleep(0.2)\n",
    "        pyautogui.keyUp(\"Down\")\n",
    "    if keyboard.is_pressed(\"q\"):\n",
    "        pyautogui.press(\"Alt\")#pause the game Yeah! it will :) \n",
    "        \n",
    "        break\n",
    "    \n",
    "#else:\n",
    "    #Color_Check.sum()\n",
    "    \n",
    "        "
   ]
  },
  {
   "cell_type": "code",
   "execution_count": null,
   "metadata": {},
   "outputs": [],
   "source": [
    "q"
   ]
  }
 ],
 "metadata": {
  "kernelspec": {
   "display_name": "Python 3",
   "language": "python",
   "name": "python3"
  },
  "language_info": {
   "codemirror_mode": {
    "name": "ipython",
    "version": 3
   },
   "file_extension": ".py",
   "mimetype": "text/x-python",
   "name": "python",
   "nbconvert_exporter": "python",
   "pygments_lexer": "ipython3",
   "version": "3.7.4"
  }
 },
 "nbformat": 4,
 "nbformat_minor": 2
}
